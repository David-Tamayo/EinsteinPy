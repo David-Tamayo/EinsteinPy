{
 "cells": [
  {
   "cell_type": "markdown",
   "metadata": {},
   "source": [
    "# EinsteinPy\n",
    "\n",
    "## Es una librería de Python para relatividad general \n",
    "\n",
    "La página oficial es https://einsteinpy.org/\n",
    "\n",
    "### Principales características:\n",
    "\n",
    "1) Análisis geométrico y cálculo de trayectorias en soluciones de vacío de las ecuaciones de campo de Einstein\n",
    "\n",
    "- Espacio-tiempo de Schwarzschild\n",
    "\n",
    "- Kerr espacio-tiempo\n",
    "\n",
    "- Kerr-Newman espacio-tiempo\n",
    "\n",
    "2) Varias utilidades relacionadas con los modelos geométricos anteriores\n",
    "\n",
    "- Radio de Schwarzschild\n",
    "\n",
    "- Horizonte de eventos y ergosfera para el agujero negro de Kerr\n",
    "\n",
    "- Tensor de Maxwell y potencial electromagnético en el espacio-tiempo de Kerr-Newman\n",
    "\n",
    "3) Cálculo simbólico \n",
    "\n",
    "- Símbolos de Christoffel\n",
    "\n",
    "- Tensor de curvatura de Riemann\n",
    "\n",
    "- Ricci Tensor\n",
    "\n",
    "- Subir y bajar índices\n",
    "\n",
    "- Simplificación de expresiones simbólicas\n",
    "\n",
    "4) Graficar geodésicas\n",
    "\n",
    "- Trazado estático con Matplotlib\n",
    "\n",
    "- Trazado 2D interactivo\n",
    "\n",
    "5) Cambio de coordenadas \n",
    "\n",
    "- Coordenadas esféricas/cartesianas\n",
    "\n",
    "- Coordenadas cartesianas/de Boyer-Lindquist\n",
    "\n",
    "6) Encaje de hiperesuperficies del espaciotiempo de Schwarzschild\n",
    "\n",
    "7) Sombra proyectada por un disco delgado de emisión alrededor de un agujero negro de Schwarzschild\n"
   ]
  },
  {
   "cell_type": "markdown",
   "metadata": {},
   "source": [
    "## Instalar einsteinpy\n",
    "\n",
    "Es muy fácil ya que es una librería de python y se puede descargar usando **pip** o **conda**:\n",
    "\n",
    "Usando pip o pip3:\n",
    "\n",
    "`$ pip install einsteinpy`\n",
    "\n",
    "Usando conda:\n",
    "\n",
    "`$ conda install -c conda-forge einsteinpy`\n",
    "\n",
    "Usando alguna de las dos opciones debe ser suficiente, si hay problemas o se quieren más detalles consultar\n",
    "\n",
    "https://docs.einsteinpy.org/en/latest/getting_started.html\n",
    "\n",
    "Se deben tener las librerías numpy, sympy, pytest"
   ]
  },
  {
   "cell_type": "markdown",
   "metadata": {},
   "source": [
    "## 1) Cálculo simbólico"
   ]
  },
  {
   "cell_type": "code",
   "execution_count": 1,
   "metadata": {},
   "outputs": [],
   "source": [
    "from einsteinpy.symbolic import *\n",
    "# importamos las métricas predefinidas\n",
    "from einsteinpy.symbolic.predefined import *\n",
    "from sympy import *\n",
    "\n",
    "import numpy as np\n",
    "import pytest\n",
    "import sympy\n",
    "sympy.init_printing()"
   ]
  },
  {
   "cell_type": "markdown",
   "metadata": {},
   "source": [
    "### Métricas predefinidas: \n",
    "\n",
    "- #### Minkowski, DeSitter, AntiDeSitter, AntiDeSitter estática\n",
    "\n",
    "- #### Schwarzschild, Kerr, ReissnerNordstorm, Kerr-Newman."
   ]
  },
  {
   "cell_type": "code",
   "execution_count": null,
   "metadata": {},
   "outputs": [],
   "source": [
    "Minkowski()"
   ]
  },
  {
   "cell_type": "code",
   "execution_count": null,
   "metadata": {},
   "outputs": [],
   "source": [
    "Minkowski(c=1).tensor()"
   ]
  },
  {
   "cell_type": "code",
   "execution_count": null,
   "metadata": {},
   "outputs": [],
   "source": [
    "DeSitter().tensor()"
   ]
  },
  {
   "cell_type": "code",
   "execution_count": null,
   "metadata": {},
   "outputs": [],
   "source": [
    "AntiDeSitter().tensor()"
   ]
  },
  {
   "cell_type": "code",
   "execution_count": null,
   "metadata": {},
   "outputs": [],
   "source": [
    "AntiDeSitterStatic().tensor()"
   ]
  },
  {
   "cell_type": "code",
   "execution_count": null,
   "metadata": {},
   "outputs": [],
   "source": [
    "Schwarzschild(c=1).tensor()"
   ]
  },
  {
   "cell_type": "code",
   "execution_count": null,
   "metadata": {},
   "outputs": [],
   "source": [
    "Kerr().tensor()"
   ]
  },
  {
   "cell_type": "code",
   "execution_count": null,
   "metadata": {},
   "outputs": [],
   "source": [
    "ReissnerNordstorm().tensor()"
   ]
  },
  {
   "cell_type": "code",
   "execution_count": null,
   "metadata": {},
   "outputs": [],
   "source": [
    "KerrNewman().tensor()"
   ]
  },
  {
   "cell_type": "markdown",
   "metadata": {},
   "source": [
    "## Manipular índices contravariantes y covariantes\n",
    "\n",
    "### Usaremos la métrica s Schwarzschild\n",
    "\n",
    "${ds}^{2}= \\left(1-{\\frac {r_{\\mathrm {s} }}{r}}\\right)c^{2}\\,dt^{2} -\\left(1-{\\frac {r_{\\mathrm {s} }}{r}}\\right)^{-1}\\,dr^{2} -r^{2}g_{\\Omega }$"
   ]
  },
  {
   "cell_type": "code",
   "execution_count": null,
   "metadata": {},
   "outputs": [],
   "source": [
    "# defino el objeto para la métrica de Schwarzschild\n",
    "sch = Schwarzschild()\n",
    "\n",
    "# ver la métrica\n",
    "sch.tensor()"
   ]
  },
  {
   "cell_type": "code",
   "execution_count": null,
   "metadata": {},
   "outputs": [],
   "source": [
    "# ver dónde están los índices, l=low, u=upper\n",
    "sch.config"
   ]
  },
  {
   "cell_type": "code",
   "execution_count": null,
   "metadata": {},
   "outputs": [],
   "source": [
    "# cálculo de la inversa\n",
    "sch_inv = sch.inv()\n",
    "sch_inv.tensor()"
   ]
  },
  {
   "cell_type": "code",
   "execution_count": null,
   "metadata": {},
   "outputs": [],
   "source": [
    "# ahora cambiaron los dos índices\n",
    "sch_inv.config"
   ]
  },
  {
   "cell_type": "code",
   "execution_count": null,
   "metadata": {},
   "outputs": [],
   "source": [
    "# ver las variables\n",
    "sch.syms"
   ]
  },
  {
   "cell_type": "code",
   "execution_count": null,
   "metadata": {},
   "outputs": [],
   "source": [
    "# ver la dimensión\n",
    "sch.dims"
   ]
  },
  {
   "cell_type": "markdown",
   "metadata": {},
   "source": [
    "### Símbolos de Christoffel\n",
    "\n",
    "$\\Gamma _{\\mu \\nu}^{\\sigma} = {\\frac {1}{2}}g^{\\sigma \\rho}(\\partial _{\\mu}g_{\\nu \\rho}+\\partial _{\\nu}g_{\\mu \\rho}-\\partial _{\\rho}g_{\\mu \\nu})$"
   ]
  },
  {
   "cell_type": "code",
   "execution_count": null,
   "metadata": {},
   "outputs": [],
   "source": [
    "# cálculo de los símbolos de Christoffel\n",
    "sch_christoffel = ChristoffelSymbols.from_metric(sch) \n",
    "sch_christoffel.tensor()"
   ]
  },
  {
   "cell_type": "code",
   "execution_count": null,
   "metadata": {},
   "outputs": [],
   "source": [
    "sch_christoffel.config"
   ]
  },
  {
   "cell_type": "code",
   "execution_count": null,
   "metadata": {},
   "outputs": [],
   "source": [
    "# cambiando la configuración a (covariante, covariante, covariante)\n",
    "new_chr = sch_christoffel.change_config('lll')\n",
    "new_chr.tensor()"
   ]
  },
  {
   "cell_type": "code",
   "execution_count": null,
   "metadata": {},
   "outputs": [],
   "source": [
    "new_chr.config"
   ]
  },
  {
   "cell_type": "markdown",
   "metadata": {},
   "source": [
    "### Tensor de Riemann a partir de los símbolos de \n",
    "\n",
    "${R^{\\rho }}_{{\\sigma \\mu \\nu }}=\\partial _{\\mu }\\Gamma _{{\\nu \\sigma }}^{\\rho }-\\partial _{\\nu }\\Gamma _{{\\mu \\sigma }}^{\\rho }+\\Gamma _{{\\mu \\lambda }}^{\\rho }\\Gamma _{{\\nu \\sigma }}^{\\lambda }-\\Gamma _{{\\nu \\lambda }}^{\\rho }\\Gamma _{{\\mu \\sigma }}^{\\lambda }$"
   ]
  },
  {
   "cell_type": "code",
   "execution_count": null,
   "metadata": {},
   "outputs": [],
   "source": [
    "rm = RiemannCurvatureTensor.from_christoffels(new_chr)\n",
    "rm.tensor()"
   ]
  },
  {
   "cell_type": "code",
   "execution_count": null,
   "metadata": {},
   "outputs": [],
   "source": [
    "# fijamos el primer índice\n",
    "rm[0,:,:,:]"
   ]
  },
  {
   "cell_type": "code",
   "execution_count": null,
   "metadata": {},
   "outputs": [],
   "source": [
    "rm[0,0,:,:]"
   ]
  },
  {
   "cell_type": "code",
   "execution_count": null,
   "metadata": {},
   "outputs": [],
   "source": [
    "rm[0,0,2,2]"
   ]
  },
  {
   "cell_type": "code",
   "execution_count": null,
   "metadata": {},
   "outputs": [],
   "source": [
    "rm.config"
   ]
  },
  {
   "cell_type": "code",
   "execution_count": null,
   "metadata": {},
   "outputs": [],
   "source": [
    "# cambio de índices\n",
    "rm2 = rm.change_config(\"uuuu\")\n",
    "rm2[0,0,:,:]"
   ]
  },
  {
   "cell_type": "code",
   "execution_count": null,
   "metadata": {},
   "outputs": [],
   "source": [
    "rm3 = rm2.change_config(\"lulu\")\n",
    "rm3[0,0,:,:]"
   ]
  },
  {
   "cell_type": "markdown",
   "metadata": {},
   "source": [
    "### Cálculo del tensor de Ricci\n",
    "\n",
    "$R_{\\sigma \\nu }={R^{\\rho }}_{\\sigma \\rho \\nu }=\\partial _{\\rho }\\Gamma _{\\nu \\sigma }^{\\rho }-\\partial _{\\nu }\\Gamma _{\\rho \\sigma }^{\\rho }+\\Gamma _{\\rho \\lambda }^{\\rho }\\Gamma _{\\nu \\sigma }^{\\lambda }-\\Gamma _{\\nu \\lambda }^{\\rho }\\Gamma _{\\rho \\sigma }^{\\lambda }$"
   ]
  },
  {
   "cell_type": "code",
   "execution_count": null,
   "metadata": {},
   "outputs": [],
   "source": [
    "AdS = AntiDeSitter()\n",
    "AdS.tensor()"
   ]
  },
  {
   "cell_type": "code",
   "execution_count": null,
   "metadata": {},
   "outputs": [],
   "source": [
    "Ricci = RicciTensor.from_metric(AdS)\n",
    "Ricci.tensor()"
   ]
  },
  {
   "cell_type": "code",
   "execution_count": null,
   "metadata": {},
   "outputs": [],
   "source": [
    "Ricci[3,3]"
   ]
  },
  {
   "cell_type": "markdown",
   "metadata": {},
   "source": [
    "### Escalar de Ricci o de curavtura"
   ]
  },
  {
   "cell_type": "code",
   "execution_count": null,
   "metadata": {},
   "outputs": [],
   "source": [
    "scalar_dS  = RicciScalar.from_metric(DeSitter())\n",
    "scalar_AdS = RicciScalar.from_metric(AntiDeSitter())"
   ]
  },
  {
   "cell_type": "code",
   "execution_count": null,
   "metadata": {},
   "outputs": [],
   "source": [
    "scalar_dS.expr"
   ]
  },
  {
   "cell_type": "code",
   "execution_count": null,
   "metadata": {},
   "outputs": [],
   "source": [
    "scalar_AdS.tensor()"
   ]
  },
  {
   "cell_type": "markdown",
   "metadata": {},
   "source": [
    "### Cálculo del tensor de Einstein a partir de una métrica\n",
    "\n",
    "El tensor de Einstein se define como:\n",
    "\n",
    "$G_{\\mu \\nu }=R_{\\mu \\nu }-{\\tfrac {1}{2}}Rg_{\\mu \\nu }$\n",
    "\n",
    "Donde \n",
    "\n",
    "$R_{\\sigma \\nu }={R^{\\rho }}_{\\sigma \\rho \\nu }=\\partial _{\\rho }\\Gamma _{\\nu \\sigma }^{\\rho }-\\partial _{\\nu }\\Gamma _{\\rho \\sigma }^{\\rho }+\\Gamma _{\\rho \\lambda }^{\\rho }\\Gamma _{\\nu \\sigma }^{\\lambda }-\\Gamma _{\\nu \\lambda }^{\\rho }\\Gamma _{\\rho \\sigma }^{\\lambda }$\n",
    "\n",
    "y\n",
    "\n",
    "$\\Gamma _{\\mu \\nu}^{\\sigma} = {\\frac {1}{2}}g^{\\sigma \\rho}(\\partial _{\\mu}g_{\\nu \\rho}+\\partial _{\\nu}g_{\\mu \\rho}-\\partial _{\\rho}g_{\\mu \\nu})$"
   ]
  },
  {
   "cell_type": "code",
   "execution_count": null,
   "metadata": {},
   "outputs": [],
   "source": [
    "eins_AdS = EinsteinTensor.from_metric(AdS)\n",
    "eins_AdS.tensor()"
   ]
  },
  {
   "cell_type": "markdown",
   "metadata": {},
   "source": [
    "### Tensor de Weyl\n",
    "\n",
    "Fuerza de marea\n",
    "\n",
    "$C_{\\alpha \\beta \\mu \\nu} = R_{\\alpha \\beta \\mu \\nu} +\\frac{1}{n-2}\\left(R_{\\alpha\\nu}g_{\\beta \\mu} -R_{\\alpha \\mu} g_{\\beta \\nu} +R_{\\beta \\mu}g_{\\alpha \\nu} -R_{\\beta \\nu}g_{\\alpha \\mu}\\right) +\\frac{1}{(n-1)(n-2)}R \\left(g_{\\alpha \\mu}g_{\\beta \\nu} -g_{\\alpha \\nu}g_{\\beta \\mu} \\right)$ \n",
    "\n"
   ]
  },
  {
   "cell_type": "code",
   "execution_count": null,
   "metadata": {},
   "outputs": [],
   "source": [
    "weyl = WeylTensor.from_metric(AdS)\n",
    "weyl.tensor()"
   ]
  },
  {
   "cell_type": "markdown",
   "metadata": {},
   "source": [
    "### Usando una métrica arbitraria"
   ]
  },
  {
   "cell_type": "code",
   "execution_count": null,
   "metadata": {},
   "outputs": [],
   "source": [
    "# se definen los símbolos de las variables que se van a ulilizar\n",
    "u, t, theta, phi, eps = sympy.symbols(\"u, t, theta, phi, epsilon\")\n",
    "syms = u, t, theta, phi\n",
    "m = ([[-1, 0, 0, 0], \n",
    "      [0, 2*u**2/(2*u**2 +eps**2), 0, 0], \n",
    "      [0, 0, -(u**2 + eps**2/2),0], \n",
    "      [0, 0, 0, -(u**2 + eps**2/2)*sin(theta)**2]])\n",
    "\n",
    "mymetric = MetricTensor(m, syms)"
   ]
  },
  {
   "cell_type": "code",
   "execution_count": null,
   "metadata": {},
   "outputs": [],
   "source": [
    "mymetric.syms"
   ]
  },
  {
   "cell_type": "code",
   "execution_count": null,
   "metadata": {},
   "outputs": [],
   "source": [
    "mymetric.tensor()"
   ]
  },
  {
   "cell_type": "code",
   "execution_count": null,
   "metadata": {},
   "outputs": [],
   "source": [
    "christoffel_my = ChristoffelSymbols.from_metric(mymetric) \n",
    "christoffel_my.tensor()"
   ]
  },
  {
   "cell_type": "code",
   "execution_count": null,
   "metadata": {},
   "outputs": [],
   "source": [
    "riemann_my = RiemannCurvatureTensor.from_christoffels(christoffel_my)\n",
    "riemann_my.tensor()"
   ]
  },
  {
   "cell_type": "code",
   "execution_count": null,
   "metadata": {},
   "outputs": [],
   "source": [
    "Ricci_my = RicciTensor.from_metric(mymetric)\n",
    "Ricci_my.tensor()"
   ]
  },
  {
   "cell_type": "code",
   "execution_count": null,
   "metadata": {},
   "outputs": [],
   "source": [
    "einstein_my = EinsteinTensor.from_metric(mymetric)\n",
    "einstein_my.tensor()"
   ]
  },
  {
   "cell_type": "markdown",
   "metadata": {},
   "source": [
    "# Animaciones en EinsteinPy\n",
    "\n",
    "Para las animaciones es necesario istalar usando pip (o pip3) el módulo **einsteinpy-geodesics**. \n",
    "\n",
    "Primero, usando Julia, ejecutar \n",
    "\n",
    "`$ julia`\n",
    "\n",
    "`julia> using Pkg`\n",
    "\n",
    "`julia> Pkg.add(\"DifferentialEquations\")`\n",
    "\n",
    "`julia> Pkg.add(\"ODEInterfaceDiffEq\")`\n",
    "\n",
    "Si ya tienen Julia y una vesión actualizada de Python3 unsado\n",
    "\n",
    "`$ pip install einsteinpy-geodesics`\n",
    "\n",
    "no debe haber problemas. Para más información o soluciuonar problemas entrar a https://pypi.org/project/einsteinpy-geodesics/"
   ]
  },
  {
   "cell_type": "code",
   "execution_count": 9,
   "metadata": {},
   "outputs": [],
   "source": [
    "from einsteinpy.geodesic import Geodesic\n",
    "from einsteinpy.plotting import StaticGeodesicPlotter\n",
    "from einsteinpy.plotting import GeodesicPlotter, StaticGeodesicPlotter, InteractiveGeodesicPlotter"
   ]
  },
  {
   "cell_type": "code",
   "execution_count": 10,
   "metadata": {},
   "outputs": [],
   "source": [
    "# Initial Conditions\n",
    "position = [2.15, np.pi / 2, 0.]\n",
    "momentum = [0., 0., -1.5]\n",
    "a = 0. # Schwarzschild Black Hole\n",
    "end_lambda = 10.\n",
    "step_size = 0.005\n",
    "return_cartesian = True\n",
    "time_like = True\n",
    "julia = False # Using Python"
   ]
  },
  {
   "cell_type": "code",
   "execution_count": 11,
   "metadata": {},
   "outputs": [
    {
     "ename": "TypeError",
     "evalue": "__init__() got an unexpected keyword argument 'position'",
     "output_type": "error",
     "traceback": [
      "\u001b[0;31m---------------------------------------------------------------------------\u001b[0m",
      "\u001b[0;31mTypeError\u001b[0m                                 Traceback (most recent call last)",
      "\u001b[0;32m<ipython-input-11-e178cb76fe0f>\u001b[0m in \u001b[0;36m<module>\u001b[0;34m\u001b[0m\n\u001b[0;32m----> 1\u001b[0;31m geod = Geodesic(\n\u001b[0m\u001b[1;32m      2\u001b[0m     \u001b[0mposition\u001b[0m\u001b[0;34m=\u001b[0m\u001b[0mposition\u001b[0m\u001b[0;34m,\u001b[0m\u001b[0;34m\u001b[0m\u001b[0;34m\u001b[0m\u001b[0m\n\u001b[1;32m      3\u001b[0m     \u001b[0mmomentum\u001b[0m\u001b[0;34m=\u001b[0m\u001b[0mmomentum\u001b[0m\u001b[0;34m,\u001b[0m\u001b[0;34m\u001b[0m\u001b[0;34m\u001b[0m\u001b[0m\n\u001b[1;32m      4\u001b[0m     \u001b[0ma\u001b[0m\u001b[0;34m=\u001b[0m\u001b[0ma\u001b[0m\u001b[0;34m,\u001b[0m\u001b[0;34m\u001b[0m\u001b[0;34m\u001b[0m\u001b[0m\n\u001b[1;32m      5\u001b[0m     \u001b[0mend_lambda\u001b[0m\u001b[0;34m=\u001b[0m\u001b[0mend_lambda\u001b[0m\u001b[0;34m,\u001b[0m\u001b[0;34m\u001b[0m\u001b[0;34m\u001b[0m\u001b[0m\n",
      "\u001b[0;31mTypeError\u001b[0m: __init__() got an unexpected keyword argument 'position'"
     ]
    }
   ],
   "source": [
    "geod = Geodesic(\n",
    "    position=position,\n",
    "    momentum=momentum,\n",
    "    a=a,\n",
    "    end_lambda=end_lambda,\n",
    "    step_size=step_size,\n",
    "    time_like=time_like, # Necessary to switch between Time-like and Null-like Geodesics, while using `Geodesic`\n",
    "    return_cartesian=return_cartesian,\n",
    "    julia=julia\n",
    ")\n",
    "\n",
    "geod"
   ]
  },
  {
   "cell_type": "code",
   "execution_count": 12,
   "metadata": {},
   "outputs": [],
   "source": [
    "gpl = GeodesicPlotter()"
   ]
  },
  {
   "cell_type": "code",
   "execution_count": 13,
   "metadata": {},
   "outputs": [
    {
     "ename": "NameError",
     "evalue": "name 'geod' is not defined",
     "output_type": "error",
     "traceback": [
      "\u001b[0;31m---------------------------------------------------------------------------\u001b[0m",
      "\u001b[0;31mNameError\u001b[0m                                 Traceback (most recent call last)",
      "\u001b[0;32m<ipython-input-13-2adb61c59ea6>\u001b[0m in \u001b[0;36m<module>\u001b[0;34m\u001b[0m\n\u001b[0;32m----> 1\u001b[0;31m \u001b[0mgpl\u001b[0m\u001b[0;34m.\u001b[0m\u001b[0mplot\u001b[0m\u001b[0;34m(\u001b[0m\u001b[0mgeod\u001b[0m\u001b[0;34m,\u001b[0m \u001b[0mcolor\u001b[0m\u001b[0;34m=\u001b[0m\u001b[0;34m\"green\"\u001b[0m\u001b[0;34m)\u001b[0m\u001b[0;34m\u001b[0m\u001b[0;34m\u001b[0m\u001b[0m\n\u001b[0m\u001b[1;32m      2\u001b[0m \u001b[0mgpl\u001b[0m\u001b[0;34m.\u001b[0m\u001b[0mshow\u001b[0m\u001b[0;34m(\u001b[0m\u001b[0;34m)\u001b[0m\u001b[0;34m\u001b[0m\u001b[0;34m\u001b[0m\u001b[0m\n",
      "\u001b[0;31mNameError\u001b[0m: name 'geod' is not defined"
     ]
    }
   ],
   "source": [
    "gpl.plot(geod, color=\"green\")\n",
    "gpl.show()"
   ]
  },
  {
   "cell_type": "code",
   "execution_count": null,
   "metadata": {},
   "outputs": [],
   "source": []
  }
 ],
 "metadata": {
  "kernelspec": {
   "display_name": "Python 3",
   "language": "python",
   "name": "python3"
  },
  "language_info": {
   "codemirror_mode": {
    "name": "ipython",
    "version": 3
   },
   "file_extension": ".py",
   "mimetype": "text/x-python",
   "name": "python",
   "nbconvert_exporter": "python",
   "pygments_lexer": "ipython3",
   "version": "3.8.5"
  }
 },
 "nbformat": 4,
 "nbformat_minor": 2
}
